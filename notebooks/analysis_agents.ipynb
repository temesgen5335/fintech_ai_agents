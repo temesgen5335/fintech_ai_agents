{
 "cells": [
  {
   "cell_type": "markdown",
   "id": "654fd63a",
   "metadata": {},
   "source": [
    "Different Analysis agents structure exploration"
   ]
  },
  {
   "cell_type": "code",
   "execution_count": null,
   "id": "97a4acdb",
   "metadata": {},
   "outputs": [],
   "source": []
  }
 ],
 "metadata": {
  "kernelspec": {
   "display_name": ".venv",
   "language": "python",
   "name": "python3"
  },
  "language_info": {
   "codemirror_mode": {
    "name": "ipython",
    "version": 3
   },
   "file_extension": ".py",
   "mimetype": "text/x-python",
   "name": "python",
   "nbconvert_exporter": "python",
   "pygments_lexer": "ipython3",
   "version": "3.13.4"
  }
 },
 "nbformat": 4,
 "nbformat_minor": 5
}
