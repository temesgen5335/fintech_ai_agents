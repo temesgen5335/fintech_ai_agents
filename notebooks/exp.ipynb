{
 "cells": [
  {
   "cell_type": "code",
   "execution_count": 3,
   "id": "5cd87a04",
   "metadata": {},
   "outputs": [],
   "source": [
    "#https://github.com/Fawadkhanse/ai-fintech-agent-api/blob/master/README.md\n",
    "\n",
    "# from fastapi import FastAPI, HTTPException\n",
    "from pydantic import BaseModel\n",
    "import requests\n",
    "# from rapidfuzz import fuzz\n",
    "import re\n",
    "import json\n",
    "# from dotenv import load_dotenv\n",
    "import os\n",
    "from sentence_transformers import SentenceTransformer, util\n",
    "# import faiss\n",
    "import numpy as np\n",
    "import logging\n",
    "import time\n",
    "import random  \n",
    "import re\n",
    "import string\n",
    "\n"
   ]
  },
  {
   "cell_type": "code",
   "execution_count": 1,
   "id": "7ee25369",
   "metadata": {},
   "outputs": [
    {
     "name": "stderr",
     "output_type": "stream",
     "text": [
      "c:\\Users\\temesgen.gebreabzgi\\Downloads\\repos\\ch\\.venv\\Lib\\site-packages\\tqdm\\auto.py:21: TqdmWarning: IProgress not found. Please update jupyter and ipywidgets. See https://ipywidgets.readthedocs.io/en/stable/user_install.html\n",
      "  from .autonotebook import tqdm as notebook_tqdm\n"
     ]
    }
   ],
   "source": [
    "from sentence_transformers import SentenceTransformer, util\n"
   ]
  },
  {
   "cell_type": "code",
   "execution_count": null,
   "id": "e285161c",
   "metadata": {},
   "outputs": [
    {
     "name": "stdout",
     "output_type": "stream",
     "text": [
      "Model path: c:\\Users\\temesgen.gebreabzgi\\Downloads\\repos\\ch\\hf_models\\all-MiniLM-L6-v2\n",
      "Exists: True\n"
     ]
    },
    {
     "ename": "",
     "evalue": "",
     "output_type": "error",
     "traceback": [
      "\u001b[1;31mThe Kernel crashed while executing code in the current cell or a previous cell. \n",
      "\u001b[1;31mPlease review the code in the cell(s) to identify a possible cause of the failure. \n",
      "\u001b[1;31mClick <a href='https://aka.ms/vscodeJupyterKernelCrash'>here</a> for more info. \n",
      "\u001b[1;31mView Jupyter <a href='command:jupyter.viewOutput'>log</a> for further details."
     ]
    }
   ],
   "source": [
    "\n",
    "# Load the embedding model\n",
    "model_path = os.path.abspath(\"../../../hf_models/all-MiniLM-L6-v2\")\n",
    "print(\"Model path:\", model_path)\n",
    "print(\"Exists:\", os.path.exists(model_path))\n",
    "try:\n",
    "    embedding_model = SentenceTransformer(model_path)\n",
    "except Exception as e:\n",
    "    logging.error(f\"Error loading embedding model: {e}\")\n",
    "    raise ValueError(\"Failed to load the embedding model.\")"
   ]
  },
  {
   "cell_type": "code",
   "execution_count": null,
   "id": "a702d21c",
   "metadata": {},
   "outputs": [],
   "source": []
  }
 ],
 "metadata": {
  "kernelspec": {
   "display_name": ".venv",
   "language": "python",
   "name": "python3"
  },
  "language_info": {
   "codemirror_mode": {
    "name": "ipython",
    "version": 3
   },
   "file_extension": ".py",
   "mimetype": "text/x-python",
   "name": "python",
   "nbconvert_exporter": "python",
   "pygments_lexer": "ipython3",
   "version": "3.13.4"
  }
 },
 "nbformat": 4,
 "nbformat_minor": 5
}
